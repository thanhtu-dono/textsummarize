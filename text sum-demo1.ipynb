{
 "cells": [
  {
   "cell_type": "code",
   "execution_count": 82,
   "metadata": {},
   "outputs": [],
   "source": [
    "import os\n",
    "import tensorflow as tf\n",
    "import numpy as np"
   ]
  },
  {
   "cell_type": "code",
   "execution_count": null,
   "metadata": {},
   "outputs": [],
   "source": [
    "def read_folder_from_folder(directory):\n",
    "    all_folders=[]\n",
    "    for folder_name in os.listdir(directory):\n",
    "        all_folders.append(folder_name)\n",
    "    return all_folders\n",
    "              \n",
    "def read_txt_file_from_folder(directory):\n",
    "    all_articles = []\n",
    "    for filename in os.listdir(directory):\n",
    "        try:\n",
    "            with open(os.path.join(directory, filename),encoding='utf-8') as f:\n",
    "                lines = [line.strip() for line in f]\n",
    "                all_articles.append(lines)\n",
    "        except:\n",
    "            print(\"skip\",filename)\n",
    "            continue\n",
    "    return all_articles\n",
    "#all_articles = read_txt_file_from_folder(\"./Cluster_001/original\")"
   ]
  },
  {
   "cell_type": "markdown",
   "metadata": {},
   "source": [
    "##Make data\n"
   ]
  },
  {
   "cell_type": "code",
   "execution_count": 89,
   "metadata": {},
   "outputs": [
    {
     "data": {
      "text/plain": [
       "300"
      ]
     },
     "execution_count": 89,
     "metadata": {},
     "output_type": "execute_result"
    }
   ],
   "source": [
    "#make data\n",
    "all_data=[]\n",
    "list_of_folder = read_folder_from_folder(\"./original\")\n",
    "for folder_name in list_of_folder:\n",
    "    try:\n",
    "        data = read_txt_file_from_folder(os.path.join(\"./original\",folder_name,\"original\"))\n",
    "    except:\n",
    "        continue\n",
    "    all_data.append(data)\n",
    "len(all_data)"
   ]
  },
  {
   "cell_type": "code",
   "execution_count": null,
   "metadata": {},
   "outputs": [],
   "source": [
    "#Gộp data chung vào 1 list\n",
    "list_data = []\n",
    "for cluster in all_data:\n",
    "    list_data = list_data+cluster"
   ]
  },
  {
   "cell_type": "code",
   "execution_count": 83,
   "metadata": {},
   "outputs": [
    {
     "data": {
      "text/plain": [
       "1945"
      ]
     },
     "execution_count": 83,
     "metadata": {},
     "output_type": "execute_result"
    }
   ],
   "source": [
    "len(list_data) # Mỗi phần tử là 1 bài báo"
   ]
  },
  {
   "cell_type": "code",
   "execution_count": 86,
   "metadata": {},
   "outputs": [
    {
     "data": {
      "text/plain": [
       "['Title: Các nước chia buồn vụ tai nạn máy bay của Ai Cập',\n",
       " 'Source: VOV',\n",
       " 'Link: http://vov.vn/thegioi/cac-nuoc-chia-buon-vu-tai-nan-may-bay-cua-ai-cap-512420.vov',\n",
       " 'Published Date: Thứ 6, 11:03, 20/05/2016',\n",
       " 'Author: Diệu Hương/VOV-Trung tâm Tin',\n",
       " 'Tags: Ai Cập, hộp đen, tai nạn máy bay, máy bay rơi, tai nan may bay, hop den.tìm kiếm, Ai Cap',\n",
       " 'Summary: Anh, Pháp, Hy Lạp, NATO đều đề nghị giúp đỡ Ai Cập tìm kiếm hộp đen và điều tra nguyên nhân của vụ tai nạn máy bay thảm khốc này.',\n",
       " 'Content:',\n",
       " 'Tổng thư ký Tổ chức Hiệp ước Bắc Đại Tây Dương (NATO) Jens Stoltenberg ngày 19/5 cho biết, nếu Ai Cập đề nghị, liên minh này sẽ hỗ trợ công tác tìm kiếm chiếc máy bay mang số hiệu MS 804 của hãng hàng không Ai Cập chở 66 người mất tích trước đó cùng ngày.',\n",
       " '“Tôi gửi lời chia buồn sâu sắc nhất đến những ai bị ảnh hưởng bởi vụ việc này. Tôi cũng gửi lời chia buồn sâu sắc đến Pháp và Ai Cập. Tôi biết rằng đã có những nỗ lực tìm kiếm cứu nạn ở mức độ quốc gia. Pháp và Ai Cập đang phối hợp trong công tác này cũng như việc điều tra. Chúng tôi sẽ tiếp tục theo dõi chặt chẽ diễn biến và nếu được đề nghị, NATO luôn sẵn sàng giúp đỡ”, ông Jens Stoltenberg nói.',\n",
       " 'Thủ tướng Italy Matteo Renzi ngày 19/5 cũng đã gửi lời chia buồn, đồng thời bày tỏ sự đoàn kết với Ai Cập sau vụ máy bay của hãng hàng không Ai Cập mất tích trên Địa Trung Hải khi đang trên đường bay từ Paris đến Cairo.',\n",
       " 'Trước đó, Hãng hàng không quốc gia Ai Cập (EgyptAir) xác nhận phía Hy Lạp đã tìm thấy mảnh vỡ từ chiếc máy bay này ở phía Nam đảo Karpathos, thuộc vùng Nam Địa Trung Hải. Hãng đã gửi lời chia buồn đến gia đình các hành khách trên chuyến bay mất tích như một sự xác nhận đầu tiên rằng thân nhân của họ đã qua đời. Hãng cũng cam kết sẽ triển khai mọi biện pháp giải quyết tình hình hiện nay cũng như tiến hành một cuộc điều tra tổng thể.',\n",
       " 'Người đứng đầu cơ quan điều tra tai nạn hàng không Ai Cập Ayman al-Moqadem ngày 19/5 cho biết, nước này sẽ dẫn đầu một ủy ban điều tra về vụ mất tích chiếc máy bay mang số hiệu MS 804.',\n",
       " 'Ủy ban này bao gồm cả nhân sự phía Pháp, nước sản xuất chiếc Airbus 320 này và cũng là nước có số nạn nhân nhiều thứ hai sau Ai Cập. Cơ quan chức năng Pháp đã khẳng định sẽ cử 3 chuyên gia sang Ai Cập tham gia điều tra vụ tai nạn máy bay này. Anh và Hy Lạp cũng đã đề nghị giúp đỡ tìm kiếm hộp đen và những mảnh vỡ của chiếc máy bay.',\n",
       " 'Hội đồng an toàn giao thông quốc gia Mỹ cho biết, động cơ của chiếc máy bay gặp nạn được sản xuất tại nước này. Theo quy tắc quốc tế, nước nơi động cơ máy bay được chế tạo cũng có thể tham gia vào cuộc điều tra khi tai nạn xảy ra. Hiện Mỹ đã cử máy bay P-3 Orion hỗ trợ công tác tìm kiếm chiếc máy bay mất tích của Ai Cập.',\n",
       " 'Lúc này, ứng viên Tổng thống đảng Cộng hòa Mỹ Donald Trump đã lên tiếng bày tỏ nghi ngờ đây là một vụ tấn công khủng bố song chính phủ Mỹ cho rằng, vụ tai nạn máy bay vẫn đang được điều tra và còn quá sớm để xác định nguyên nhân khiến máy bay gặp nạn.',\n",
       " 'Thủ tướng Ai Cập Sherif Ismail thì nhận định còn quá sớm đề loại bỏ bất cứ giả thuyết nào, kể cả trường hợp máy bay bị khủng bố. Bộ trưởng Bộ Hàng không dân dụng Ai Cập Sherif Phathi cũng cho rằng, khả năng máy bay bị khủng bố cao hơn khả năng xảy ra lỗi kỹ thuật dù ông chưa đưa ra bằng chứng cụ thể nào.',\n",
       " 'Tổng thống Ai Cập Mohamed Morsi đã yêu cầu Bộ Hàng không dân dụng và quân đội phối hợp nhanh chóng định vị nơi chiếc máy bay mang số hiệu MS 804 rơi và tiến hành một cuộc điều tra thấu đáo.',\n",
       " 'Trong khi đó, Ngoại trưởng Canada Stephane Dion ngày 19/5 cho biết trong số những hành khách đi chuyến bay mang số hiệu MS 804 của Hãng hàng không quốc gia Ai Cập (EgyptAir) bị mất tích cùng ngày có ít nhất 2 công dân nước này. Ông cũng cho biết Bộ Ngoại giao Canada đang phối hợp với các đối tác Pháp và Ai Cập, cũng như các nước liên quan khác để đánh giá tình hình và xem xét các yêu cầu hỗ trợ.',\n",
       " 'Trước đó, hãng hàng không quốc gia Ai Cập đã công bố quốc tịch của những hành khách đi trên chuyến bay MS 804 bị mất tích, bao gồm 56 hành khách, trong đó có 30 người Ai Cập, 15 người Pháp, 2 người I-rắc, 1 người Anh, 1 người Bỉ, 1 người Kuwait, 1 người Saudi Arabia, 1 người Sudan, 1 người Cộng hòa Chad, 1 người Bồ Đào Nha, 1 người Angeria và 1 người Canada. Ngoài ra, còn có 10 thành viên phi hành đoàn./.']"
      ]
     },
     "execution_count": 86,
     "metadata": {},
     "output_type": "execute_result"
    }
   ],
   "source": [
    "list_data[0]"
   ]
  },
  {
   "cell_type": "code",
   "execution_count": 111,
   "metadata": {},
   "outputs": [
    {
     "name": "stdout",
     "output_type": "stream",
     "text": [
      "Summary: Lãnh đạo Triều Tiên Kim Jong-un không được biết đến với lối sống lành mạnh. Tuy nhiên, dạo gần đây đã xuất hiện những tin đồi đó là ông Kim có thể đã từ bỏ một trong những thói quen xấu nhất của mình: hút thuốc. ['Content:', 'Theo thông tin đăng trên một số hãng tin hàng đầu Hàn Quốc như Yonhap, Korea Herald, ông Kim đã không được chụp ảnh chung với thuốc lá trong ít nhất 2 tháng. Nhìn nhanh vào những bức ảnh được phát hành thời gian gần đây để xác nhận điều này: Sự ám chỉ đến thuốc lá gần đây nhất là từ giữa tháng 5 khi ông ngồi cạnh một cái gạt tàn.', 'Tuy nhiên, có rất nhiều lý do để nghi ngờ về khả năng ông Kim Jong-un bỏ thói quen hút thuốc. Tin tức mà truyền thông Hàn Quốc đưa về Triều Tiên thường không đáng tin cậy. Thêm vào đói, ông Kim đã nghiện thuốc từ rất lâu rồi: Ông ấy được cho là bắt đầu hút thuốc khi mới 15 tuổi. Qua nhiều năm, ông thường xuất hiện trong ảnh với một điếu thuốc tại những sự kiện chính thức. Điều này rất giống với cha ông, cố lãnh đạo Kim Jong-il.', 'Thói quen hút thuốc không phải là điều bất thường với người dân Triều Tiên. Theo hãng NK News, vào những năm 1990, khoảng 90% nam giới Triều Tiên hút thuốc. Đến năm 2014, con số này đã giảm đáng kể, chỉ còn 43,9%, theo WHO. Tuy nhiên, so với Mỹ thì nó vẫn còn khá cao. Có khoảng 20% nam giới và 15% nữ giới tại Mỹ là hút thuốc.', 'Việc bỏ thuốc có thể là do chiến dịch chống thuốc lá của Triều Tiên, bắt đầu vào giữa những năm 2000. Ở những nơi mà người ta coi hút thuốc là bình thường, các em học sinh được giảng dạy về những tác hại của thuốc lá. Các báo cáo gần đây mà truyền thông Triều Tiên đưa cho thấy nước này đã thành lập \"các trạm nghiên cứu không hút thuốc\" và những biển cảnh báo được đặt tại nơi sản xuất thuốc lá ở Triều Tiên. Trong một bài báo ngày 4/5, hãng thông tấn KCNA viết: \"Số lượng những người không hút thuốc đã tăng đáng kể trong từng ngày qua\".', 'Michael Madden, người điều hành blog Giám sát Lãnh đạo Triều Tiên, đã bày tỏ những hoài nghi về việc ông Kim Jong-un thực sự bỏ thuốc. Ông cho rằng truyền thông Triều Tiên có thể đã bỏ qua các chi tiết gợi nhớ tới việc hút thuốc để tuyên truyền cho chiến dịch cấm thuốc lá. Ông Madden cho rằng Kim Jong-un có khả năng bỏ thuốc hoặc ít nhất là không để công chúng thấy mình hút thuốc. Đây là nỗ lực để ông làm gương cho con gái mình.']\n"
     ]
    }
   ],
   "source": [
    "#Lấy content và summary từ 1 bài báo\n",
    "def get_content_summary(article):\n",
    "    content = []\n",
    "    summary = None\n",
    "    is_content, is_summary = False,False\n",
    "    for sentence in article:\n",
    "        if sentence.startswith(\"Title\"):\n",
    "            is_content, is_summary = False,False\n",
    "        if sentence.startswith(\"Summary\"):\n",
    "            is_summary = True\n",
    "            is_content = False\n",
    "        elif sentence.startswith(\"Content\"):\n",
    "            is_summary = False\n",
    "            is_content = True\n",
    "        if is_summary:\n",
    "            summary = sentence\n",
    "            is_summary = False\n",
    "        elif is_content:\n",
    "            content.append(sentence)\n",
    "    return content,summary\n",
    "cont,sum = get_content_summary(list_data[100]) #test\n",
    "print(sum,cont)"
   ]
  },
  {
   "cell_type": "code",
   "execution_count": 114,
   "metadata": {},
   "outputs": [
    {
     "name": "stdout",
     "output_type": "stream",
     "text": [
      "1945 1945\n"
     ]
    }
   ],
   "source": [
    "#Tạo tập content và tập summary tương ứng\n",
    "all_contents, all_summaries = [],[]\n",
    "\n",
    "for article in list_data:\n",
    "    curr_content, curr_summary = get_content_summary(article)\n",
    "    all_contents.append(curr_content)\n",
    "    all_summaries.append(curr_summary)\n",
    "\n",
    "print(len(all_contents),len(all_summaries))"
   ]
  },
  {
   "cell_type": "code",
   "execution_count": 113,
   "metadata": {},
   "outputs": [
    {
     "name": "stdout",
     "output_type": "stream",
     "text": [
      "1945 1945\n"
     ]
    }
   ],
   "source": []
  }
 ],
 "metadata": {
  "kernelspec": {
   "display_name": "Python 3",
   "language": "python",
   "name": "python3"
  },
  "language_info": {
   "codemirror_mode": {
    "name": "ipython",
    "version": 3
   },
   "file_extension": ".py",
   "mimetype": "text/x-python",
   "name": "python",
   "nbconvert_exporter": "python",
   "pygments_lexer": "ipython3",
   "version": "3.8.3"
  }
 },
 "nbformat": 4,
 "nbformat_minor": 4
}
